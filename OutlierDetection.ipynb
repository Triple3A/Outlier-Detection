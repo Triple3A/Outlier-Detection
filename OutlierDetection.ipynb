{
 "cells": [
  {
   "cell_type": "code",
   "execution_count": 100,
   "metadata": {},
   "outputs": [],
   "source": [
    "import pandas as pd\n",
    "import numpy as np\n",
    "from datetime import timedelta, time, datetime\n",
    "from matplotlib import pyplot as plt"
   ]
  },
  {
   "cell_type": "code",
   "execution_count": 101,
   "metadata": {},
   "outputs": [],
   "source": [
    "ONE_DAY = int(24 * 60 / 5)\n",
    "ONE_HOUR = int(60 / 12)\n",
    "CONSECUTIVE_DIF = 0.5\n",
    "COEFFICIENT = 0.0084\n",
    "MIN_METER = 0\n",
    "MAX_METER = 500"
   ]
  },
  {
   "cell_type": "code",
   "execution_count": 102,
   "metadata": {},
   "outputs": [],
   "source": [
    "class OutlierDetection():\n",
    "    def __init__(self, filename):\n",
    "        self.data = pd.read_csv(filename)\n",
    "        self.titles = list(self.data.keys())\n",
    "        self.date = self.titles[0]\n",
    "        self.meter_52 = self.titles[1]\n",
    "        self.meter_51 = self.titles[2]\n",
    "        self.meter_sum = self.titles[3]\n",
    "        \n",
    "    def plot(self):\n",
    "        x = self.data[self.date]\n",
    "        y = self.data[self.meter_sum]\n",
    "        plt.plot(x, y)\n",
    "        plt.xlabel(self.date)\n",
    "        plt.ylabel(self.meter_sum)\n",
    "        plt.figure()\n",
    "    \n",
    "        \n",
    "    def inRange(self, number):\n",
    "         return number > MIN_METER and number < MAX_METER\n",
    "        \n",
    "        \n",
    "    def checkMeters(self):\n",
    "        meter_51 = list(self.data[self.meter_51])\n",
    "        meter_52 = list(self.data[self.meter_52])\n",
    "        \n",
    "        for i in range(ONE_DAY, len(meter_sum)):\n",
    "            if not self.inRange(meter_51[i]):\n",
    "                meter_51[i] = meter_51[i - ONE_DAY]\n",
    "                \n",
    "            if not self.inRange(meter_52[i]):\n",
    "                meter_52[i] = meter_52[i - ONE_DAY]\n",
    "                    \n",
    "        for i in range(ONE_DAY):\n",
    "            if not self.inRange(meter_51[i]):\n",
    "                meter_51[i] = self.data[self.meter_51].mean()\n",
    "            \n",
    "            if not self.inRange(meter_52[i]):\n",
    "                meter_52[i] = self.data[self.meter_52].mean()\n",
    "                \n",
    "        self.data[self.meter_51] = meter_51\n",
    "        self.data[self.meter_52] = meter_52\n",
    "                    \n",
    "    def calculateSum(self):\n",
    "        self.data[self.meter_sum] = COEFFICIENT * (self.data[self.meter_51] + self.data[self.meter_52])\n",
    "        \n",
    "    def checkMeterSum(self):\n",
    "        meter_sum = list(self.data[self.meter_sum])\n",
    "        for i in range(1, len(meter_sum)):\n",
    "                \n",
    "            if (meter_sum[i] - meter_sum[i - 1]) > CONSECUTIVE_DIF:\n",
    "                meter_sum[i] = meter_sum[i - 1] + CONSECUTIVE_DIF\n",
    "            if (meter_sum[i - 1] - meter_sum[i]) > CONSECUTIVE_DIF:\n",
    "                meter_sum[i] = meter_sum[i - 1] - CONSECUTIVE_DIF\n",
    "\n",
    "        self.data[self.meter_sum] = meter_sum\n",
    "            \n",
    "        \n",
    "    def findMissing(self):\n",
    "        meter_sum = list(self.data[self.meter_sum])\n",
    "        same = 1\n",
    "        missing = [0]\n",
    "        for i in range(1, len(meter_sum)):\n",
    "            if meter_sum[i] == meter_sum[i - 1]:\n",
    "                same += 1\n",
    "            else:\n",
    "                if same >= ONE_HOUR:\n",
    "                    missing.append(i)\n",
    "                else:\n",
    "                    missing.pop()\n",
    "                    \n",
    "                same = 1\n",
    "                missing.append(i)\n",
    "        \n",
    "        if same >= ONE_HOUR:\n",
    "            missing.append(len(meter_sum))\n",
    "        else:\n",
    "            missing.pop()\n",
    "        \n",
    "        return missing\n",
    "\n",
    "    def fillMissing(self, missing):\n",
    "        meter_51 = list(self.data[self.meter_51])\n",
    "        meter_52 = list(self.data[self.meter_52])\n",
    "        for i in range(0, len(missing), 2):\n",
    "            for j in range(missing[i], missing[i + 1]):\n",
    "                if j - ONE_DAY < 0:\n",
    "                    meter_51[j] = meter_51[j + ONE_DAY]\n",
    "                    meter_52[j] = meter_52[j + ONE_DAY]\n",
    "                else:\n",
    "                    meter_51[j] = meter_51[j - ONE_DAY]\n",
    "                    meter_52[j] = meter_52[j - ONE_DAY]\n",
    "\n",
    "        self.data[self.meter_51] = meter_51\n",
    "        self.data[self.meter_52] = meter_52"
   ]
  },
  {
   "cell_type": "code",
   "execution_count": 105,
   "metadata": {},
   "outputs": [],
   "source": [
    "class Problem():\n",
    "    def __init__(self, filename):\n",
    "        self.outlier = OutlierDetection(filename)\n",
    "        \n",
    "    def solve(self):\n",
    "        self.outlier.checkMeters()\n",
    "        self.outlier.calculateSum()\n",
    "        self.outlier.checkMeterSum()\n",
    "        missing = self.outlier.findMissing()\n",
    "        self.outlier.fillMissing(missing)\n",
    "        self.outlier.checkMeterSum()\n",
    "        \n",
    "    def plot(self):\n",
    "        self.outlier.plot()"
   ]
  },
  {
   "cell_type": "code",
   "execution_count": 106,
   "metadata": {},
   "outputs": [
    {
     "data": {
      "image/png": "[encoded data removed]",
      "text/plain": [
       "<Figure size 432x288 with 1 Axes>"
      ]
     },
     "metadata": {
      "needs_background": "light"
     },
     "output_type": "display_data"
    },
    {
     "data": {
      "image/png": "[encoded data removed]",
      "text/plain": [
       "<Figure size 432x288 with 1 Axes>"
      ]
     },
     "metadata": {
      "needs_background": "light"
     },
     "output_type": "display_data"
    },
    {
     "data": {
      "text/plain": [
       "<Figure size 432x288 with 0 Axes>"
      ]
     },
     "metadata": {},
     "output_type": "display_data"
    }
   ],
   "source": [
    "problem = Problem('data1.csv')\n",
    "problem.plot()\n",
    "problem.solve()\n",
    "problem.plot()"
   ]
  }
 ],
 "metadata": {
  "celltoolbar": "Raw Cell Format",
  "kernelspec": {
   "display_name": "Python 3",
   "language": "python",
   "name": "python3"
  },
  "language_info": {
   "codemirror_mode": {
    "name": "ipython",
    "version": 3
   },
   "file_extension": ".py",
   "mimetype": "text/x-python",
   "name": "python",
   "nbconvert_exporter": "python",
   "pygments_lexer": "ipython3",
   "version": "3.8.0"
  }
 },
 "nbformat": 4,
 "nbformat_minor": 4
}
